{
 "cells": [
  {
   "cell_type": "code",
   "execution_count": 2,
   "id": "46a1a21d",
   "metadata": {},
   "outputs": [
    {
     "name": "stdout",
     "output_type": "stream",
     "text": [
      "!dlroW ,olleH\n"
     ]
    }
   ],
   "source": [
    "\"\"\"\n",
    "1. Write a Python program to reverse a string without using any built-in string reversal functions.\n",
    "\n",
    "\"\"\"\n",
    "\n",
    "# Sol:\n",
    "\n",
    "def reverse_string(input_string):\n",
    "    reversed_string = \"\"\n",
    "    for i in range(len(input_string) - 1, -1, -1):\n",
    "        reversed_string += input_string[i]\n",
    "    return reversed_string\n",
    "\n",
    "# Test the function\n",
    "string_to_reverse = \"Hello, World!\"\n",
    "reversed_string = reverse_string(string_to_reverse)\n",
    "print(reversed_string)"
   ]
  },
  {
   "cell_type": "code",
   "execution_count": 3,
   "id": "382f1f85",
   "metadata": {},
   "outputs": [
    {
     "name": "stdout",
     "output_type": "stream",
     "text": [
      "level is a palindrome.\n"
     ]
    }
   ],
   "source": [
    "\"\"\"\n",
    "2. Implement a function to check if a given string is a palindrome.\n",
    "\n",
    "\"\"\"\n",
    "\n",
    "# Sol\n",
    "\n",
    "def is_palindrome(input_string):\n",
    "    input_string = input_string.lower()  # Convert the string to lowercase for case-insensitive comparison\n",
    "    reversed_string = input_string[::-1]  # Reverse the string using slicing\n",
    "    return input_string == reversed_string\n",
    "\n",
    "# Test the function\n",
    "string_to_check = \"level\"\n",
    "if is_palindrome(string_to_check):\n",
    "    print(f\"{string_to_check} is a palindrome.\")\n",
    "else:\n",
    "    print(f\"{string_to_check} is not a palindrome.\")\n"
   ]
  },
  {
   "cell_type": "code",
   "execution_count": 4,
   "id": "6c205b9f",
   "metadata": {},
   "outputs": [
    {
     "name": "stdout",
     "output_type": "stream",
     "text": [
      "The largest element in the list is: 67\n"
     ]
    }
   ],
   "source": [
    "\"\"\"\n",
    "3. Write a program to find the largest element in a given list.\n",
    "\n",
    "\"\"\"\n",
    "\n",
    "# Sol\n",
    "\n",
    "def find_largest_element(input_list):\n",
    "    if len(input_list) == 0:\n",
    "        return None  # Return None for an empty list\n",
    "\n",
    "    largest_element = input_list[0]  # Assume the first element is the largest\n",
    "\n",
    "    for element in input_list:\n",
    "        if element > largest_element:\n",
    "            largest_element = element\n",
    "\n",
    "    return largest_element\n",
    "\n",
    "# Test the function\n",
    "my_list = [12, 45, 67, 23, 9, 56]\n",
    "largest_element = find_largest_element(my_list)\n",
    "print(\"The largest element in the list is:\", largest_element)"
   ]
  },
  {
   "cell_type": "code",
   "execution_count": 5,
   "id": "9a53c9d1",
   "metadata": {},
   "outputs": [
    {
     "name": "stdout",
     "output_type": "stream",
     "text": [
      "1: 3\n",
      "2: 3\n",
      "3: 3\n",
      "4: 1\n",
      "5: 1\n"
     ]
    }
   ],
   "source": [
    "\"\"\"\n",
    "4. Implement a function to count the occurrence of each element in a list.\n",
    "\"\"\"\n",
    "\n",
    "# Sol\n",
    "\n",
    "def count_occurrences(input_list):\n",
    "    occurrences = {}\n",
    "\n",
    "    for element in input_list:\n",
    "        if element in occurrences:\n",
    "            occurrences[element] += 1\n",
    "        else:\n",
    "            occurrences[element] = 1\n",
    "\n",
    "    return occurrences\n",
    "\n",
    "# Test the function\n",
    "my_list = [1, 2, 3, 2, 1, 3, 4, 5, 1, 2, 3]\n",
    "occurrences = count_occurrences(my_list)\n",
    "\n",
    "# Print the occurrences\n",
    "for element, count in occurrences.items():\n",
    "    print(f\"{element}: {count}\")"
   ]
  },
  {
   "cell_type": "code",
   "execution_count": 6,
   "id": "b285b8f0",
   "metadata": {},
   "outputs": [
    {
     "name": "stdout",
     "output_type": "stream",
     "text": [
      "The second largest number in the list is: 56\n"
     ]
    }
   ],
   "source": [
    "\"\"\"\n",
    "5. Write a Python program to find the second largest number in a list.\n",
    "\"\"\"\n",
    "\n",
    "# Sol\n",
    "\n",
    "def find_second_largest(input_list):\n",
    "    if len(input_list) < 2:\n",
    "        return None  # Return None if there are less than two elements in the list\n",
    "\n",
    "    largest = max(input_list[0], input_list[1])\n",
    "    second_largest = min(input_list[0], input_list[1])\n",
    "\n",
    "    for num in input_list[2:]:\n",
    "        if num > largest:\n",
    "            second_largest = largest\n",
    "            largest = num\n",
    "        elif num > second_largest:\n",
    "            second_largest = num\n",
    "\n",
    "    return second_largest\n",
    "\n",
    "# Test the function\n",
    "my_list = [12, 45, 67, 23, 9, 56]\n",
    "second_largest = find_second_largest(my_list)\n",
    "if second_largest is not None:\n",
    "    print(\"The second largest number in the list is:\", second_largest)\n",
    "else:\n",
    "    print(\"There is no second largest number in the list.\")"
   ]
  },
  {
   "cell_type": "code",
   "execution_count": 7,
   "id": "3464f266",
   "metadata": {},
   "outputs": [
    {
     "name": "stdout",
     "output_type": "stream",
     "text": [
      "List with duplicates removed: [1, 2, 3, 4, 5]\n"
     ]
    }
   ],
   "source": [
    "\"\"\"\n",
    "6. Implement a function to remove duplicate elements from a list.\n",
    "\n",
    "\"\"\"\n",
    "\n",
    "# Sol\n",
    "\n",
    "def remove_duplicates(input_list):\n",
    "    unique_elements = []\n",
    "    for element in input_list:\n",
    "        if element not in unique_elements:\n",
    "            unique_elements.append(element)\n",
    "    return unique_elements\n",
    "\n",
    "# Test the function\n",
    "my_list = [1, 2, 3, 2, 1, 3, 4, 5, 1, 2, 3]\n",
    "unique_list = remove_duplicates(my_list)\n",
    "print(\"List with duplicates removed:\", unique_list)"
   ]
  },
  {
   "cell_type": "code",
   "execution_count": 8,
   "id": "2130adcf",
   "metadata": {},
   "outputs": [
    {
     "name": "stdout",
     "output_type": "stream",
     "text": [
      "The factorial of 5 is: 120\n"
     ]
    }
   ],
   "source": [
    "\"\"\"\n",
    "7. Write a program to calculate the factorial of a given number.\n",
    "\n",
    "\"\"\"\n",
    "\n",
    "# Sol\n",
    "\n",
    "def factorial(n):\n",
    "    if n < 0:\n",
    "        return None  # Factorial is not defined for negative numbers\n",
    "    elif n == 0:\n",
    "        return 1  # Factorial of 0 is 1\n",
    "    else:\n",
    "        result = 1\n",
    "        for i in range(1, n + 1):\n",
    "            result *= i\n",
    "        return result\n",
    "\n",
    "# Test the function\n",
    "number = 5\n",
    "factorial_value = factorial(number)\n",
    "if factorial_value is not None:\n",
    "    print(f\"The factorial of {number} is:\", factorial_value)\n",
    "else:\n",
    "    print(\"Factorial is not defined for negative numbers.\")"
   ]
  },
  {
   "cell_type": "code",
   "execution_count": 9,
   "id": "180e17a0",
   "metadata": {},
   "outputs": [
    {
     "name": "stdout",
     "output_type": "stream",
     "text": [
      "17 is a prime number.\n"
     ]
    }
   ],
   "source": [
    "\"\"\"\n",
    "8. Implement a function to check if a given number is prime.\n",
    "\n",
    "\"\"\"\n",
    "\n",
    "# Sol\n",
    "\n",
    "def is_prime(number):\n",
    "    if number < 2:\n",
    "        return False  # Numbers less than 2 are not prime\n",
    "\n",
    "    for i in range(2, int(number ** 0.5) + 1):\n",
    "        if number % i == 0:\n",
    "            return False\n",
    "\n",
    "    return True\n",
    "\n",
    "# Test the function\n",
    "num = 17\n",
    "if is_prime(num):\n",
    "    print(f\"{num} is a prime number.\")\n",
    "else:\n",
    "    print(f\"{num} is not a prime number.\")"
   ]
  },
  {
   "cell_type": "code",
   "execution_count": 10,
   "id": "a431f747",
   "metadata": {},
   "outputs": [
    {
     "name": "stdout",
     "output_type": "stream",
     "text": [
      "Sorted list in ascending order: [2, 3, 5, 7, 8, 10]\n"
     ]
    }
   ],
   "source": [
    "\"\"\"\n",
    "9. Write a Python program to sort a list of integers in ascending order.\n",
    "\n",
    "\"\"\"\n",
    "\n",
    "# Sol\n",
    "\n",
    "def sort_list_ascending(input_list):\n",
    "    input_list.sort()  # Sort the list in-place\n",
    "    return input_list\n",
    "\n",
    "# Test the function\n",
    "my_list = [10, 5, 8, 3, 2, 7]\n",
    "sorted_list = sort_list_ascending(my_list)\n",
    "print(\"Sorted list in ascending order:\", sorted_list)"
   ]
  },
  {
   "cell_type": "code",
   "execution_count": 11,
   "id": "2beebb2e",
   "metadata": {},
   "outputs": [
    {
     "name": "stdout",
     "output_type": "stream",
     "text": [
      "Sum of all numbers in the list: 35\n"
     ]
    }
   ],
   "source": [
    "\"\"\"\n",
    "10. Implement a function to find the sum of all numbers in a list.\n",
    "\"\"\"\n",
    "\n",
    "# Sol\n",
    "\n",
    "def sum_of_numbers(input_list):\n",
    "    sum = 0\n",
    "    for num in input_list:\n",
    "        sum += num\n",
    "    return sum\n",
    "\n",
    "# Test the function\n",
    "my_list = [10, 5, 8, 3, 2, 7]\n",
    "total_sum = sum_of_numbers(my_list)\n",
    "print(\"Sum of all numbers in the list:\", total_sum)"
   ]
  },
  {
   "cell_type": "code",
   "execution_count": 12,
   "id": "2083e6a7",
   "metadata": {},
   "outputs": [
    {
     "name": "stdout",
     "output_type": "stream",
     "text": [
      "Common elements between the lists: [4, 5]\n"
     ]
    }
   ],
   "source": [
    "\"\"\"\n",
    "11. Write a program to find the common elements between two lists.\n",
    "\n",
    "\"\"\"\n",
    "\n",
    "# Sol\n",
    "\n",
    "def find_common_elements(list1, list2):\n",
    "    common_elements = []\n",
    "    for element in list1:\n",
    "        if element in list2:\n",
    "            common_elements.append(element)\n",
    "    return common_elements\n",
    "\n",
    "# Test the function\n",
    "list1 = [1, 2, 3, 4, 5]\n",
    "list2 = [4, 5, 6, 7, 8]\n",
    "common_elements = find_common_elements(list1, list2)\n",
    "print(\"Common elements between the lists:\", common_elements)"
   ]
  },
  {
   "cell_type": "code",
   "execution_count": 13,
   "id": "a8bb0b88",
   "metadata": {},
   "outputs": [
    {
     "name": "stdout",
     "output_type": "stream",
     "text": [
      "listen and silent are anagrams.\n"
     ]
    }
   ],
   "source": [
    "\"\"\"\n",
    "12. Implement a function to check if a given string is an anagram of another string.\n",
    "\n",
    "\"\"\"\n",
    "\n",
    "# Sol\n",
    "\n",
    "def is_anagram(string1, string2):\n",
    "    # Remove whitespace and convert strings to lowercase\n",
    "    string1 = string1.replace(\" \", \"\").lower()\n",
    "    string2 = string2.replace(\" \", \"\").lower()\n",
    "\n",
    "    # Check if the sorted strings are equal\n",
    "    return sorted(string1) == sorted(string2)\n",
    "\n",
    "# Test the function\n",
    "string1 = \"listen\"\n",
    "string2 = \"silent\"\n",
    "if is_anagram(string1, string2):\n",
    "    print(f\"{string1} and {string2} are anagrams.\")\n",
    "else:\n",
    "    print(f\"{string1} and {string2} are not anagrams.\")"
   ]
  },
  {
   "cell_type": "code",
   "execution_count": 14,
   "id": "02fddfba",
   "metadata": {},
   "outputs": [
    {
     "name": "stdout",
     "output_type": "stream",
     "text": [
      "All permutations of abc :\n",
      "abc\n",
      "acb\n",
      "bac\n",
      "bca\n",
      "cab\n",
      "cba\n"
     ]
    }
   ],
   "source": [
    "\"\"\"\n",
    "13. Write a Python program to generate all permutations of a given string.\n",
    "\n",
    "\"\"\"\n",
    "\n",
    "# Sol\n",
    "\n",
    "import itertools\n",
    "\n",
    "def generate_permutations(input_string):\n",
    "    # Convert the string into a list of characters\n",
    "    chars = list(input_string)\n",
    "\n",
    "    # Generate permutations using itertools\n",
    "    permutations = list(itertools.permutations(chars))\n",
    "\n",
    "    # Convert each permutation back to a string\n",
    "    permutations = [''.join(perm) for perm in permutations]\n",
    "\n",
    "    return permutations\n",
    "\n",
    "# Test the function\n",
    "string = \"abc\"\n",
    "permutations = generate_permutations(string)\n",
    "\n",
    "# Print the permutations\n",
    "print(\"All permutations of\", string, \":\")\n",
    "for perm in permutations:\n",
    "    print(perm)\n"
   ]
  },
  {
   "cell_type": "code",
   "execution_count": 15,
   "id": "c53179ff",
   "metadata": {},
   "outputs": [
    {
     "name": "stdout",
     "output_type": "stream",
     "text": [
      "Fibonacci sequence up to 10 terms:\n",
      "[0, 1, 1, 2, 3, 5, 8, 13, 21, 34]\n"
     ]
    }
   ],
   "source": [
    "\"\"\"\n",
    "14. Implement a function to calculate the Fibonacci sequence up to a given number of terms.\n",
    "\"\"\"\n",
    "\n",
    "# Sol\n",
    "\n",
    "def fibonacci_sequence(num_terms):\n",
    "    sequence = []\n",
    "    if num_terms >= 1:\n",
    "        sequence.append(0)  # Add the first term of the sequence\n",
    "    if num_terms >= 2:\n",
    "        sequence.append(1)  # Add the second term of the sequence\n",
    "\n",
    "    # Generate the remaining terms of the sequence\n",
    "    for i in range(2, num_terms):\n",
    "        next_term = sequence[i - 1] + sequence[i - 2]\n",
    "        sequence.append(next_term)\n",
    "\n",
    "    return sequence\n",
    "\n",
    "# Test the function\n",
    "num_terms = 10\n",
    "fibonacci = fibonacci_sequence(num_terms)\n",
    "print(\"Fibonacci sequence up to\", num_terms, \"terms:\")\n",
    "print(fibonacci)"
   ]
  },
  {
   "cell_type": "code",
   "execution_count": 16,
   "id": "45ae1abf",
   "metadata": {},
   "outputs": [
    {
     "name": "stdout",
     "output_type": "stream",
     "text": [
      "Median of the list: 4.5\n"
     ]
    }
   ],
   "source": [
    "\"\"\"\n",
    "15. Write a program to find the median of a list of numbers.\n",
    "\"\"\"\n",
    "\n",
    "# Sol\n",
    "\n",
    "def find_median(input_list):\n",
    "    sorted_list = sorted(input_list)  # Sort the list in ascending order\n",
    "    n = len(sorted_list)\n",
    "\n",
    "    if n % 2 == 0:\n",
    "        # If the list has an even number of elements, take the average of the middle two elements\n",
    "        middle_left = sorted_list[n // 2 - 1]\n",
    "        middle_right = sorted_list[n // 2]\n",
    "        median = (middle_left + middle_right) / 2\n",
    "    else:\n",
    "        # If the list has an odd number of elements, take the middle element\n",
    "        median = sorted_list[n // 2]\n",
    "\n",
    "    return median\n",
    "\n",
    "# Test the function\n",
    "my_list = [5, 2, 8, 4, 1, 9]\n",
    "median_value = find_median(my_list)\n",
    "print(\"Median of the list:\", median_value)"
   ]
  },
  {
   "cell_type": "code",
   "execution_count": 18,
   "id": "e32cdf65",
   "metadata": {},
   "outputs": [
    {
     "name": "stdout",
     "output_type": "stream",
     "text": [
      "The list is sorted in non-decreasing order.\n"
     ]
    }
   ],
   "source": [
    "\"\"\"\n",
    "16. Implement a function to check if a given list is sorted in non-decreasing order.\n",
    "\"\"\"\n",
    "\n",
    "# Sol\n",
    "\n",
    "def is_sorted_non_decreasing(input_list):\n",
    "    return all(input_list[i] <= input_list[i + 1] for i in range(len(input_list) - 1))\n",
    "\n",
    "# Test the function\n",
    "my_list = [1, 2, 3, 4, 5]\n",
    "if is_sorted_non_decreasing(my_list):\n",
    "    print(\"The list is sorted in non-decreasing order.\")\n",
    "else:\n",
    "    print(\"The list is not sorted in non-decreasing order.\")\n"
   ]
  },
  {
   "cell_type": "code",
   "execution_count": 19,
   "id": "edb5d512",
   "metadata": {},
   "outputs": [
    {
     "name": "stdout",
     "output_type": "stream",
     "text": [
      "Intersection of the two lists: [4, 5]\n"
     ]
    }
   ],
   "source": [
    "\"\"\"\n",
    "17. Write a Python program to find the intersection of two lists.\n",
    "\n",
    "\"\"\"\n",
    "\n",
    "# Sol\n",
    "\n",
    "def find_intersection(list1, list2):\n",
    "    intersection = set(list1) & set(list2)\n",
    "    return list(intersection)\n",
    "\n",
    "# Test the function\n",
    "list1 = [1, 2, 3, 4, 5]\n",
    "list2 = [4, 5, 6, 7, 8]\n",
    "intersection = find_intersection(list1, list2)\n",
    "print(\"Intersection of the two lists:\", intersection)\n"
   ]
  },
  {
   "cell_type": "code",
   "execution_count": 20,
   "id": "246e2cd5",
   "metadata": {},
   "outputs": [
    {
     "name": "stdout",
     "output_type": "stream",
     "text": [
      "Maximum subarray sum: 7\n"
     ]
    }
   ],
   "source": [
    "\"\"\"\n",
    "18. Implement a function to find the maximum subarray sum in a given list.\n",
    "\n",
    "\"\"\"\n",
    "\n",
    "# Sol\n",
    "\n",
    "def find_maximum_subarray_sum(input_list):\n",
    "    max_sum = float('-inf')\n",
    "    current_sum = 0\n",
    "\n",
    "    for num in input_list:\n",
    "        current_sum = max(num, current_sum + num)\n",
    "        max_sum = max(max_sum, current_sum)\n",
    "\n",
    "    return max_sum\n",
    "\n",
    "# Test the function\n",
    "my_list = [1, -2, 3, 4, -5, 2, 1]\n",
    "max_subarray_sum = find_maximum_subarray_sum(my_list)\n",
    "print(\"Maximum subarray sum:\", max_subarray_sum)\n"
   ]
  },
  {
   "cell_type": "code",
   "execution_count": 21,
   "id": "b8428dc0",
   "metadata": {},
   "outputs": [
    {
     "name": "stdout",
     "output_type": "stream",
     "text": [
      "String without vowels: Hll, Wrld!\n"
     ]
    }
   ],
   "source": [
    "\"\"\"\n",
    "19. Write a program to remove all vowels from a given string.\n",
    "\n",
    "\"\"\"\n",
    "\n",
    "# Sol\n",
    "\n",
    "def remove_vowels(input_string):\n",
    "    vowels = ['a', 'e', 'i', 'o', 'u', 'A', 'E', 'I', 'O', 'U']\n",
    "    return ''.join(char for char in input_string if char not in vowels)\n",
    "\n",
    "# Test the function\n",
    "my_string = \"Hello, World!\"\n",
    "string_without_vowels = remove_vowels(my_string)\n",
    "print(\"String without vowels:\", string_without_vowels)\n"
   ]
  },
  {
   "cell_type": "code",
   "execution_count": 22,
   "id": "242286b2",
   "metadata": {},
   "outputs": [
    {
     "name": "stdout",
     "output_type": "stream",
     "text": [
      "Reversed sentence: sentence. a is This world! Hello,\n"
     ]
    }
   ],
   "source": [
    "\"\"\"\n",
    "20. Implement a function to reverse the order of words in a given sentence.\n",
    "\n",
    "\"\"\"\n",
    "\n",
    "# Sol\n",
    "\n",
    "def reverse_sentence(sentence):\n",
    "    words = sentence.split()  # Split the sentence into individual words\n",
    "    reversed_words = words[::-1]  # Reverse the order of words\n",
    "    reversed_sentence = ' '.join(reversed_words)  # Join the reversed words back into a sentence\n",
    "    return reversed_sentence\n",
    "\n",
    "# Test the function\n",
    "my_sentence = \"Hello, world! This is a sentence.\"\n",
    "reversed_sentence = reverse_sentence(my_sentence)\n",
    "print(\"Reversed sentence:\", reversed_sentence)"
   ]
  },
  {
   "cell_type": "code",
   "execution_count": 24,
   "id": "76978fdb",
   "metadata": {},
   "outputs": [
    {
     "name": "stdout",
     "output_type": "stream",
     "text": [
      "listen and silent are anagrams.\n"
     ]
    }
   ],
   "source": [
    "\"\"\"\n",
    "21. Write a Python program to check if two strings are anagrams of each other.\n",
    "\n",
    "\"\"\"\n",
    "\n",
    "# Sol\n",
    "\n",
    "def are_anagrams(string1, string2):\n",
    "    # Remove whitespace and convert strings to lowercase\n",
    "    string1 = string1.replace(\" \", \"\").lower()\n",
    "    string2 = string2.replace(\" \", \"\").lower()\n",
    "\n",
    "    # Check if the sorted strings are equal\n",
    "    return sorted(string1) == sorted(string2)\n",
    "\n",
    "# Test the function\n",
    "string1 = \"listen\"\n",
    "string2 = \"silent\"\n",
    "if are_anagrams(string1, string2):\n",
    "    print(f\"{string1} and {string2} are anagrams.\")\n",
    "else:\n",
    "    print(f\"{string1} and {string2} are not anagrams.\")"
   ]
  },
  {
   "cell_type": "code",
   "execution_count": 25,
   "id": "8d7cdf0e",
   "metadata": {},
   "outputs": [
    {
     "name": "stdout",
     "output_type": "stream",
     "text": [
      "First non-repeating character: c\n"
     ]
    }
   ],
   "source": [
    "\"\"\"\n",
    "22. Implement a function to find the first non-repeating character in a string.\n",
    "\n",
    "\"\"\"\n",
    "\n",
    "# Sol\n",
    "\n",
    "def find_first_non_repeating_character(input_string):\n",
    "    char_count = {}\n",
    "    for char in input_string:\n",
    "        char_count[char] = char_count.get(char, 0) + 1\n",
    "\n",
    "    for char in input_string:\n",
    "        if char_count[char] == 1:\n",
    "            return char\n",
    "\n",
    "    return None  # If no non-repeating character is found\n",
    "\n",
    "# Test the function\n",
    "my_string = \"aabbcdeff\"\n",
    "first_non_repeating_char = find_first_non_repeating_character(my_string)\n",
    "if first_non_repeating_char:\n",
    "    print(\"First non-repeating character:\", first_non_repeating_char)\n",
    "else:\n",
    "    print(\"No non-repeating character found.\")"
   ]
  },
  {
   "cell_type": "code",
   "execution_count": 26,
   "id": "b309c7d7",
   "metadata": {},
   "outputs": [
    {
     "name": "stdout",
     "output_type": "stream",
     "text": [
      "Prime factors of 36 are: [2, 2, 3, 3]\n"
     ]
    }
   ],
   "source": [
    "\"\"\"\n",
    "23. Write a program to find the prime factors of a given number.\n",
    "\n",
    "\"\"\"\n",
    "\n",
    "# Sol\n",
    "\n",
    "def find_prime_factors(number):\n",
    "    prime_factors = []\n",
    "    divisor = 2\n",
    "\n",
    "    while divisor <= number:\n",
    "        if number % divisor == 0:\n",
    "            prime_factors.append(divisor)\n",
    "            number = number // divisor\n",
    "        else:\n",
    "            divisor += 1\n",
    "\n",
    "    return prime_factors\n",
    "\n",
    "# Test the function\n",
    "num = 36\n",
    "prime_factors = find_prime_factors(num)\n",
    "print(\"Prime factors of\", num, \"are:\", prime_factors)"
   ]
  },
  {
   "cell_type": "code",
   "execution_count": 27,
   "id": "a6c6bbcb",
   "metadata": {},
   "outputs": [
    {
     "name": "stdout",
     "output_type": "stream",
     "text": [
      "16 is a power of two.\n"
     ]
    }
   ],
   "source": [
    "\"\"\"\n",
    "24. Implement a function to check if a given number is a power of two.\n",
    "\"\"\"\n",
    "\n",
    "# Sol\n",
    "\n",
    "def is_power_of_two(number):\n",
    "    if number <= 0:\n",
    "        return False\n",
    "\n",
    "    # Check if the number is a power of two by performing bitwise operations\n",
    "    return (number & (number - 1)) == 0\n",
    "\n",
    "# Test the function\n",
    "num = 16\n",
    "if is_power_of_two(num):\n",
    "    print(f\"{num} is a power of two.\")\n",
    "else:\n",
    "    print(f\"{num} is not a power of two.\")"
   ]
  },
  {
   "cell_type": "code",
   "execution_count": 28,
   "id": "3952e2c0",
   "metadata": {},
   "outputs": [
    {
     "name": "stdout",
     "output_type": "stream",
     "text": [
      "Merged and sorted list: [1, 2, 3, 4, 5, 6, 7, 8]\n"
     ]
    }
   ],
   "source": [
    "\"\"\"\n",
    "25. Write a Python program to merge two sorted lists into a single sorted list.\n",
    "\n",
    "\"\"\"\n",
    "\n",
    "# Sol\n",
    "\n",
    "def merge_sorted_lists(list1, list2):\n",
    "    merged_list = []\n",
    "    i = 0\n",
    "    j = 0\n",
    "\n",
    "    while i < len(list1) and j < len(list2):\n",
    "        if list1[i] <= list2[j]:\n",
    "            merged_list.append(list1[i])\n",
    "            i += 1\n",
    "        else:\n",
    "            merged_list.append(list2[j])\n",
    "            j += 1\n",
    "\n",
    "    # Add any remaining elements from list1\n",
    "    while i < len(list1):\n",
    "        merged_list.append(list1[i])\n",
    "        i += 1\n",
    "\n",
    "    # Add any remaining elements from list2\n",
    "    while j < len(list2):\n",
    "        merged_list.append(list2[j])\n",
    "        j += 1\n",
    "\n",
    "    return merged_list\n",
    "\n",
    "# Test the function\n",
    "list1 = [1, 3, 5, 7]\n",
    "list2 = [2, 4, 6, 8]\n",
    "merged_list = merge_sorted_lists(list1, list2)\n",
    "print(\"Merged and sorted list:\", merged_list)\n"
   ]
  },
  {
   "cell_type": "code",
   "execution_count": 29,
   "id": "4b5c8e40",
   "metadata": {},
   "outputs": [
    {
     "name": "stdout",
     "output_type": "stream",
     "text": [
      "Mode of the list: 4\n"
     ]
    }
   ],
   "source": [
    "\"\"\"\n",
    "26. Implement a function to find the mode of a list of numbers.\n",
    "\n",
    "\"\"\"\n",
    "\n",
    "# Sol\n",
    "\n",
    "from collections import Counter\n",
    "\n",
    "def find_mode(input_list):\n",
    "    counter = Counter(input_list)\n",
    "    mode = counter.most_common(1)[0][0]\n",
    "    return mode\n",
    "\n",
    "# Test the function\n",
    "my_list = [1, 2, 3, 4, 2, 3, 4, 4, 5]\n",
    "mode_value = find_mode(my_list)\n",
    "print(\"Mode of the list:\", mode_value)\n"
   ]
  },
  {
   "cell_type": "code",
   "execution_count": 32,
   "id": "f3b87c6d",
   "metadata": {},
   "outputs": [
    {
     "name": "stdout",
     "output_type": "stream",
     "text": [
      "GCD of 24 and 36 is: 12\n"
     ]
    }
   ],
   "source": [
    "\"\"\"\n",
    "27. Write a program to find the greatest common divisor (GCD) of two numbers.\n",
    "\n",
    "\"\"\"\n",
    "\n",
    "# Sol\n",
    "\n",
    "def find_gcd(a, b):\n",
    "    while b != 0:\n",
    "        a, b = b, a % b\n",
    "    return a\n",
    "\n",
    "# Test the function\n",
    "num1 = 24\n",
    "num2 = 36\n",
    "gcd = find_gcd(num1, num2)\n",
    "print(\"GCD of\", num1, \"and\", num2, \"is:\", gcd)"
   ]
  },
  {
   "cell_type": "code",
   "execution_count": 31,
   "id": "085451e2",
   "metadata": {},
   "outputs": [
    {
     "name": "stdout",
     "output_type": "stream",
     "text": [
      "Square root of 16 is: 4.000000000000004\n"
     ]
    }
   ],
   "source": [
    "\"\"\"\n",
    "28. Implement a function to calculate the square root of a given number.\n",
    "\n",
    "\"\"\"\n",
    "\n",
    "# Sol\n",
    "\n",
    "def calculate_square_root(number, epsilon=1e-6):\n",
    "    if number < 0:\n",
    "        raise ValueError(\"Square root is not defined for negative numbers.\")\n",
    "\n",
    "    guess = number / 2\n",
    "    while abs(guess * guess - number) > epsilon:\n",
    "        guess = (guess + number / guess) / 2\n",
    "\n",
    "    return guess\n",
    "\n",
    "# Test the function\n",
    "num = 16\n",
    "square_root = calculate_square_root(num)\n",
    "print(\"Square root of\", num, \"is:\", square_root)"
   ]
  },
  {
   "cell_type": "code",
   "execution_count": 33,
   "id": "bcd709cb",
   "metadata": {},
   "outputs": [
    {
     "name": "stdout",
     "output_type": "stream",
     "text": [
      "A man, a plan, a canal, Panama! is a valid palindrome.\n"
     ]
    }
   ],
   "source": [
    "\"\"\"\n",
    "29. Write a Python program to check if a given string is a valid palindrome ignoring non-alphanumeric characters.\n",
    "\n",
    "\"\"\"\n",
    "\n",
    "# Sol\n",
    "\n",
    "import re\n",
    "\n",
    "def is_valid_palindrome(string):\n",
    "    # Remove non-alphanumeric characters and convert to lowercase\n",
    "    alphanumeric_string = re.sub('[\\W_]', '', string.lower())\n",
    "\n",
    "    # Check if the string is equal to its reverse\n",
    "    return alphanumeric_string == alphanumeric_string[::-1]\n",
    "\n",
    "# Test the function\n",
    "my_string = \"A man, a plan, a canal, Panama!\"\n",
    "if is_valid_palindrome(my_string):\n",
    "    print(f\"{my_string} is a valid palindrome.\")\n",
    "else:\n",
    "    print(f\"{my_string} is not a valid palindrome.\")"
   ]
  },
  {
   "cell_type": "code",
   "execution_count": 34,
   "id": "cea60d75",
   "metadata": {},
   "outputs": [
    {
     "name": "stdout",
     "output_type": "stream",
     "text": [
      "Minimum element in the rotated sorted list: 0\n"
     ]
    }
   ],
   "source": [
    "\"\"\"\n",
    "30. Implement a function to find the minimum element in a rotated sorted list.\n",
    "\n",
    "\"\"\"\n",
    "\n",
    "# Sol\n",
    "\n",
    "def find_minimum_element(rotated_list):\n",
    "    left = 0\n",
    "    right = len(rotated_list) - 1\n",
    "\n",
    "    while left < right:\n",
    "        mid = (left + right) // 2\n",
    "\n",
    "        if rotated_list[mid] > rotated_list[right]:\n",
    "            left = mid + 1\n",
    "        else:\n",
    "            right = mid\n",
    "\n",
    "    return rotated_list[left]\n",
    "\n",
    "# Test the function\n",
    "my_list = [4, 5, 6, 7, 0, 1, 2]\n",
    "minimum_element = find_minimum_element(my_list)\n",
    "print(\"Minimum element in the rotated sorted list:\", minimum_element)"
   ]
  },
  {
   "cell_type": "code",
   "execution_count": 35,
   "id": "b5824ef9",
   "metadata": {},
   "outputs": [
    {
     "name": "stdout",
     "output_type": "stream",
     "text": [
      "Sum of even numbers in the list: 30\n"
     ]
    }
   ],
   "source": [
    "\"\"\"\n",
    "31. Write a program to find the sum of all even numbers in a list.\n",
    "\n",
    "\"\"\"\n",
    "\n",
    "# Sol\n",
    "\n",
    "def sum_of_even_numbers(input_list):\n",
    "    return sum(num for num in input_list if num % 2 == 0)\n",
    "\n",
    "# Test the function\n",
    "my_list = [1, 2, 3, 4, 5, 6, 7, 8, 9, 10]\n",
    "even_sum = sum_of_even_numbers(my_list)\n",
    "print(\"Sum of even numbers in the list:\", even_sum)"
   ]
  },
  {
   "cell_type": "code",
   "execution_count": 37,
   "id": "be64de41",
   "metadata": {},
   "outputs": [
    {
     "name": "stdout",
     "output_type": "stream",
     "text": [
      "2 raised to the power of 3 is: 8\n"
     ]
    }
   ],
   "source": [
    "\"\"\"\n",
    "32. Implement a function to calculate the power of a number using recursion.\n",
    "\n",
    "\"\"\"\n",
    "\n",
    "# Sol\n",
    "\n",
    "def power(base, exponent):\n",
    "    if exponent == 0:\n",
    "        return 1\n",
    "    elif exponent < 0:\n",
    "        return 1 / power(base, -exponent)\n",
    "    else:\n",
    "        return base * power(base, exponent - 1)\n",
    "\n",
    "# Test the function\n",
    "base = 2\n",
    "exponent = 3\n",
    "result = power(base, exponent)\n",
    "print(f\"{base} raised to the power of {exponent} is:\", result)"
   ]
  },
  {
   "cell_type": "code",
   "execution_count": 38,
   "id": "dfd62894",
   "metadata": {},
   "outputs": [
    {
     "name": "stdout",
     "output_type": "stream",
     "text": [
      "List with duplicates removed: [1, 2, 3, 4, 5, 6]\n"
     ]
    }
   ],
   "source": [
    "\"\"\"\n",
    "33. Write a Python program to remove duplicates from a list while preserving the order.\n",
    "\n",
    "\"\"\"\n",
    "\n",
    "# Sol\n",
    "\n",
    "def remove_duplicates(input_list):\n",
    "    seen = set()\n",
    "    result = []\n",
    "    for item in input_list:\n",
    "        if item not in seen:\n",
    "            seen.add(item)\n",
    "            result.append(item)\n",
    "    return result\n",
    "\n",
    "# Test the function\n",
    "my_list = [1, 2, 3, 2, 4, 1, 5, 6, 4]\n",
    "unique_list = remove_duplicates(my_list)\n",
    "print(\"List with duplicates removed:\", unique_list)"
   ]
  },
  {
   "cell_type": "code",
   "execution_count": 40,
   "id": "298a7f71",
   "metadata": {},
   "outputs": [
    {
     "name": "stdout",
     "output_type": "stream",
     "text": [
      "Longest common prefix: fl\n"
     ]
    }
   ],
   "source": [
    "\"\"\"\n",
    "34. Implement a function to find the longest common prefix among a list of strings.\n",
    "\n",
    "\"\"\"\n",
    "\n",
    "# Sol\n",
    "\n",
    "def longest_common_prefix(str_list):\n",
    "    if not str_list:\n",
    "        return \"\"\n",
    "    \n",
    "    shortest_str = min(str_list, key=len)\n",
    "    \n",
    "    for i, char in enumerate(shortest_str):\n",
    "        for other_str in str_list:\n",
    "            if other_str[i] != char:\n",
    "                return shortest_str[:i]\n",
    "    \n",
    "    return shortest_str\n",
    "\n",
    "# Test the function\n",
    "my_list = [\"flower\", \"flow\", \"flight\"]\n",
    "common_prefix = longest_common_prefix(my_list)\n",
    "print(\"Longest common prefix:\", common_prefix)"
   ]
  },
  {
   "cell_type": "code",
   "execution_count": 41,
   "id": "8996bbc6",
   "metadata": {},
   "outputs": [
    {
     "name": "stdout",
     "output_type": "stream",
     "text": [
      "16 is a perfect square.\n"
     ]
    }
   ],
   "source": [
    "\"\"\"\n",
    "35. Write a program to check if a given number is a perfect square.\n",
    "\"\"\"\n",
    "\n",
    "# Sol\n",
    "\n",
    "def is_perfect_square(number):\n",
    "    if number < 0:\n",
    "        return False\n",
    "\n",
    "    sqrt = int(number ** 0.5)\n",
    "    return sqrt * sqrt == number\n",
    "\n",
    "# Test the function\n",
    "num = 16\n",
    "if is_perfect_square(num):\n",
    "    print(f\"{num} is a perfect square.\")\n",
    "else:\n",
    "    print(f\"{num} is not a perfect square.\")"
   ]
  },
  {
   "cell_type": "code",
   "execution_count": 42,
   "id": "3a82841b",
   "metadata": {},
   "outputs": [
    {
     "name": "stdout",
     "output_type": "stream",
     "text": [
      "Product of the elements in the list: 120\n"
     ]
    }
   ],
   "source": [
    "\"\"\"\n",
    "36. Implement a function to calculate the product of all elements in a list.\n",
    "\n",
    "\"\"\"\n",
    "\n",
    "# Sol\n",
    "\n",
    "def calculate_product(input_list):\n",
    "    if not input_list:\n",
    "        return None\n",
    "\n",
    "    product = 1\n",
    "    for num in input_list:\n",
    "        product *= num\n",
    "\n",
    "    return product\n",
    "\n",
    "# Test the function\n",
    "my_list = [1, 2, 3, 4, 5]\n",
    "product = calculate_product(my_list)\n",
    "print(\"Product of the elements in the list:\", product)"
   ]
  },
  {
   "cell_type": "code",
   "execution_count": 43,
   "id": "669032b4",
   "metadata": {},
   "outputs": [
    {
     "name": "stdout",
     "output_type": "stream",
     "text": [
      "Reversed sentence: programming. Python to Welcome world! Hello,\n"
     ]
    }
   ],
   "source": [
    "\"\"\"\n",
    "37. Write a Python program to reverse the order of words in a sentence while preserving the word order.\n",
    "\n",
    "\"\"\"\n",
    "\n",
    "# Sol\n",
    "\n",
    "def reverse_word_order(sentence):\n",
    "    words = sentence.split()\n",
    "    reversed_sentence = \" \".join(reversed(words))\n",
    "    return reversed_sentence\n",
    "\n",
    "# Test the function\n",
    "my_sentence = \"Hello, world! Welcome to Python programming.\"\n",
    "reversed_sentence = reverse_word_order(my_sentence)\n",
    "print(\"Reversed sentence:\", reversed_sentence)"
   ]
  },
  {
   "cell_type": "code",
   "execution_count": 44,
   "id": "2aa18707",
   "metadata": {},
   "outputs": [
    {
     "name": "stdout",
     "output_type": "stream",
     "text": [
      "Missing number: 4\n"
     ]
    }
   ],
   "source": [
    "\"\"\"\n",
    "38. Implement a function to find the missing number in a given list of consecutive numbers.\n",
    "\n",
    "\"\"\"\n",
    "\n",
    "# Sol\n",
    "\n",
    "def find_missing_number(consecutive_list):\n",
    "    n = len(consecutive_list) + 1\n",
    "    expected_sum = n * (n + 1) // 2\n",
    "    actual_sum = sum(consecutive_list)\n",
    "    missing_number = expected_sum - actual_sum\n",
    "    return missing_number\n",
    "\n",
    "# Test the function\n",
    "my_list = [1, 2, 3, 5, 6, 7, 8, 9]\n",
    "missing_number = find_missing_number(my_list)\n",
    "print(\"Missing number:\", missing_number)"
   ]
  },
  {
   "cell_type": "code",
   "execution_count": 45,
   "id": "8a7de6e7",
   "metadata": {},
   "outputs": [
    {
     "name": "stdout",
     "output_type": "stream",
     "text": [
      "Sum of digits of 12345 is: 15\n"
     ]
    }
   ],
   "source": [
    "\"\"\"\n",
    "39. Write a program to find the sum of digits of a given number.\n",
    "\n",
    "\"\"\"\n",
    "\n",
    "# Sol\n",
    "\n",
    "def sum_of_digits(number):\n",
    "    sum_digits = 0\n",
    "    while number > 0:\n",
    "        digit = number % 10\n",
    "        sum_digits += digit\n",
    "        number //= 10\n",
    "    return sum_digits\n",
    "\n",
    "# Test the function\n",
    "num = 12345\n",
    "sum_digits = sum_of_digits(num)\n",
    "print(\"Sum of digits of\", num, \"is:\", sum_digits)"
   ]
  },
  {
   "cell_type": "code",
   "execution_count": 46,
   "id": "0adf8356",
   "metadata": {},
   "outputs": [
    {
     "name": "stdout",
     "output_type": "stream",
     "text": [
      "A man, a plan, a canal, Panama! is a valid palindrome.\n"
     ]
    }
   ],
   "source": [
    "\"\"\"\n",
    "40. Implement a function to check if a given string is a valid palindrome considering case sensitivity.\n",
    "\n",
    "\"\"\"\n",
    "\n",
    "# Sol\n",
    "\n",
    "def is_valid_palindrome(string):\n",
    "    # Remove non-alphanumeric characters\n",
    "    alphanumeric_string = ''.join(char.lower() for char in string if char.isalnum())\n",
    "\n",
    "    # Check if the string is equal to its reverse\n",
    "    return alphanumeric_string == alphanumeric_string[::-1]\n",
    "\n",
    "# Test the function\n",
    "my_string = \"A man, a plan, a canal, Panama!\"\n",
    "if is_valid_palindrome(my_string):\n",
    "    print(f\"{my_string} is a valid palindrome.\")\n",
    "else:\n",
    "    print(f\"{my_string} is not a valid palindrome.\")"
   ]
  },
  {
   "cell_type": "code",
   "execution_count": 47,
   "id": "54927820",
   "metadata": {},
   "outputs": [
    {
     "name": "stdout",
     "output_type": "stream",
     "text": [
      "Smallest missing positive integer: 2\n"
     ]
    }
   ],
   "source": [
    "\"\"\"\n",
    "41. Write a Python program to find the smallest missing positive integer in a list.\n",
    "\n",
    "\"\"\"\n",
    "\n",
    "# Sol\n",
    "\n",
    "def find_smallest_missing_positive(nums):\n",
    "    n = len(nums)\n",
    "    \n",
    "    # Step 1: Move positive numbers to their correct positions\n",
    "    for i in range(n):\n",
    "        while 1 <= nums[i] <= n and nums[nums[i]-1] != nums[i]:\n",
    "            nums[nums[i]-1], nums[i] = nums[i], nums[nums[i]-1]\n",
    "    \n",
    "    # Step 2: Find the smallest missing positive number\n",
    "    for i in range(n):\n",
    "        if nums[i] != i+1:\n",
    "            return i+1\n",
    "    \n",
    "    return n+1\n",
    "\n",
    "# Test the function\n",
    "my_list = [3, 4, -1, 1]\n",
    "smallest_missing_positive = find_smallest_missing_positive(my_list)\n",
    "print(\"Smallest missing positive integer:\", smallest_missing_positive)"
   ]
  },
  {
   "cell_type": "code",
   "execution_count": 48,
   "id": "0bd1ef0e",
   "metadata": {},
   "outputs": [
    {
     "name": "stdout",
     "output_type": "stream",
     "text": [
      "Longest palindrome substring: bab\n"
     ]
    }
   ],
   "source": [
    "\"\"\"\n",
    "42. Implement a function to find the longest palindrome substring in a given string.\n",
    "\n",
    "\"\"\"\n",
    "\n",
    "# Sol\n",
    "\n",
    "def longest_palindrome_substring(string):\n",
    "    if not string:\n",
    "        return \"\"\n",
    "\n",
    "    def expand_around_center(left, right):\n",
    "        while left >= 0 and right < len(string) and string[left] == string[right]:\n",
    "            left -= 1\n",
    "            right += 1\n",
    "        return string[left+1:right]\n",
    "\n",
    "    longest_palindrome = \"\"\n",
    "\n",
    "    for i in range(len(string)):\n",
    "        # For odd-length palindromes\n",
    "        palindrome_odd = expand_around_center(i, i)\n",
    "        if len(palindrome_odd) > len(longest_palindrome):\n",
    "            longest_palindrome = palindrome_odd\n",
    "\n",
    "        # For even-length palindromes\n",
    "        palindrome_even = expand_around_center(i, i+1)\n",
    "        if len(palindrome_even) > len(longest_palindrome):\n",
    "            longest_palindrome = palindrome_even\n",
    "\n",
    "    return longest_palindrome\n",
    "\n",
    "# Test the function\n",
    "my_string = \"babad\"\n",
    "longest_palindrome = longest_palindrome_substring(my_string)\n",
    "print(\"Longest palindrome substring:\", longest_palindrome)"
   ]
  },
  {
   "cell_type": "code",
   "execution_count": 49,
   "id": "dec3f768",
   "metadata": {},
   "outputs": [
    {
     "name": "stdout",
     "output_type": "stream",
     "text": [
      "Number of occurrences of 2 in the list: 3\n"
     ]
    }
   ],
   "source": [
    "\"\"\"\n",
    "43. Write a program to find the number of occurrences of a given element in a list.\n",
    "\n",
    "\"\"\"\n",
    "\n",
    "# Sol\n",
    "\n",
    "def count_occurrences(input_list, element):\n",
    "    count = 0\n",
    "    for item in input_list:\n",
    "        if item == element:\n",
    "            count += 1\n",
    "    return count\n",
    "\n",
    "# Test the function\n",
    "my_list = [1, 2, 3, 4, 2, 2, 5, 6]\n",
    "target_element = 2\n",
    "occurrences = count_occurrences(my_list, target_element)\n",
    "print(\"Number of occurrences of\", target_element, \"in the list:\", occurrences)"
   ]
  },
  {
   "cell_type": "code",
   "execution_count": 50,
   "id": "8be55407",
   "metadata": {},
   "outputs": [
    {
     "name": "stdout",
     "output_type": "stream",
     "text": [
      "28 is a perfect number.\n"
     ]
    }
   ],
   "source": [
    "\"\"\"\n",
    "44. Implement a function to check if a given number is a perfect number.\n",
    "\n",
    "\"\"\"\n",
    "\n",
    "# Sol\n",
    "\n",
    "def is_perfect_number(number):\n",
    "    if number <= 0:\n",
    "        return False\n",
    "\n",
    "    divisor_sum = 0\n",
    "    for i in range(1, number):\n",
    "        if number % i == 0:\n",
    "            divisor_sum += i\n",
    "\n",
    "    return divisor_sum == number\n",
    "\n",
    "# Test the function\n",
    "num = 28\n",
    "if is_perfect_number(num):\n",
    "    print(f\"{num} is a perfect number.\")\n",
    "else:\n",
    "    print(f\"{num} is not a perfect number.\")"
   ]
  },
  {
   "cell_type": "code",
   "execution_count": 51,
   "id": "70a06753",
   "metadata": {},
   "outputs": [
    {
     "name": "stdout",
     "output_type": "stream",
     "text": [
      "String with duplicates removed: Helo, Wrd!\n"
     ]
    }
   ],
   "source": [
    "\"\"\"\n",
    "45. Write a Python program to remove all duplicates from a string.\n",
    "\n",
    "\"\"\"\n",
    "\n",
    "# Sol\n",
    "\n",
    "def remove_duplicates(string):\n",
    "    unique_chars = []\n",
    "    for char in string:\n",
    "        if char not in unique_chars:\n",
    "            unique_chars.append(char)\n",
    "    return ''.join(unique_chars)\n",
    "\n",
    "# Test the function\n",
    "my_string = \"Hello, World!\"\n",
    "result = remove_duplicates(my_string)\n",
    "print(\"String with duplicates removed:\", result)"
   ]
  },
  {
   "cell_type": "code",
   "execution_count": 52,
   "id": "30cf11b0",
   "metadata": {},
   "outputs": [
    {
     "name": "stdout",
     "output_type": "stream",
     "text": [
      "First missing positive integer: 2\n"
     ]
    }
   ],
   "source": [
    "\"\"\"\n",
    "46. Implement a function to find the first missing positive\n",
    "\n",
    "\"\"\"\n",
    "\n",
    "# Sol\n",
    "\n",
    "def first_missing_positive(nums):\n",
    "    n = len(nums)\n",
    "\n",
    "    # Step 1: Move positive numbers to their correct positions\n",
    "    for i in range(n):\n",
    "        while 1 <= nums[i] <= n and nums[nums[i]-1] != nums[i]:\n",
    "            nums[nums[i]-1], nums[i] = nums[i], nums[nums[i]-1]\n",
    "\n",
    "    # Step 2: Find the first missing positive number\n",
    "    for i in range(n):\n",
    "        if nums[i] != i+1:\n",
    "            return i+1\n",
    "\n",
    "    return n+1\n",
    "\n",
    "# Test the function\n",
    "my_list = [3, 4, -1, 1]\n",
    "missing_positive = first_missing_positive(my_list)\n",
    "print(\"First missing positive integer:\", missing_positive)"
   ]
  },
  {
   "cell_type": "code",
   "execution_count": null,
   "id": "ff58ffe3",
   "metadata": {},
   "outputs": [],
   "source": []
  }
 ],
 "metadata": {
  "kernelspec": {
   "display_name": "Python 3 (ipykernel)",
   "language": "python",
   "name": "python3"
  },
  "language_info": {
   "codemirror_mode": {
    "name": "ipython",
    "version": 3
   },
   "file_extension": ".py",
   "mimetype": "text/x-python",
   "name": "python",
   "nbconvert_exporter": "python",
   "pygments_lexer": "ipython3",
   "version": "3.10.9"
  }
 },
 "nbformat": 4,
 "nbformat_minor": 5
}
